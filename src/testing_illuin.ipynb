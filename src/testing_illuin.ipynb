{
  "nbformat": 4,
  "nbformat_minor": 0,
  "metadata": {
    "colab": {
      "name": "testing_illuin",
      "provenance": [],
      "collapsed_sections": [],
      "authorship_tag": "ABX9TyPJx8ac1cW/vvsXdCL1dGW1"
    },
    "kernelspec": {
      "name": "python3",
      "display_name": "Python 3"
    },
    "language_info": {
      "name": "python"
    }
  },
  "cells": [
    {
      "cell_type": "code",
      "source": [
        "from sklearn.feature_extraction.text import TfidfVectorizer\n",
        "from sklearn.metrics.pairwise import cosine_similarity\n",
        "import numpy as np\n",
        "from tqdm import tqdm\n",
        "from scipy.sparse import csr_matrix\n",
        "from google.colab import files\n",
        "import pandas as pd\n",
        "from gensim.parsing.preprocessing import remove_stopwords, preprocess_string\n",
        "import string"
      ],
      "metadata": {
        "id": "m2v0agcZl5Ay"
      },
      "execution_count": 1,
      "outputs": []
    },
    {
      "cell_type": "code",
      "execution_count": 2,
      "metadata": {
        "colab": {
          "base_uri": "https://localhost:8080/",
          "height": 73,
          "resources": {
            "http://localhost:8080/nbextensions/google.colab/files.js": {
              "data": "Ly8gQ29weXJpZ2h0IDIwMTcgR29vZ2xlIExMQwovLwovLyBMaWNlbnNlZCB1bmRlciB0aGUgQXBhY2hlIExpY2Vuc2UsIFZlcnNpb24gMi4wICh0aGUgIkxpY2Vuc2UiKTsKLy8geW91IG1heSBub3QgdXNlIHRoaXMgZmlsZSBleGNlcHQgaW4gY29tcGxpYW5jZSB3aXRoIHRoZSBMaWNlbnNlLgovLyBZb3UgbWF5IG9idGFpbiBhIGNvcHkgb2YgdGhlIExpY2Vuc2UgYXQKLy8KLy8gICAgICBodHRwOi8vd3d3LmFwYWNoZS5vcmcvbGljZW5zZXMvTElDRU5TRS0yLjAKLy8KLy8gVW5sZXNzIHJlcXVpcmVkIGJ5IGFwcGxpY2FibGUgbGF3IG9yIGFncmVlZCB0byBpbiB3cml0aW5nLCBzb2Z0d2FyZQovLyBkaXN0cmlidXRlZCB1bmRlciB0aGUgTGljZW5zZSBpcyBkaXN0cmlidXRlZCBvbiBhbiAiQVMgSVMiIEJBU0lTLAovLyBXSVRIT1VUIFdBUlJBTlRJRVMgT1IgQ09ORElUSU9OUyBPRiBBTlkgS0lORCwgZWl0aGVyIGV4cHJlc3Mgb3IgaW1wbGllZC4KLy8gU2VlIHRoZSBMaWNlbnNlIGZvciB0aGUgc3BlY2lmaWMgbGFuZ3VhZ2UgZ292ZXJuaW5nIHBlcm1pc3Npb25zIGFuZAovLyBsaW1pdGF0aW9ucyB1bmRlciB0aGUgTGljZW5zZS4KCi8qKgogKiBAZmlsZW92ZXJ2aWV3IEhlbHBlcnMgZm9yIGdvb2dsZS5jb2xhYiBQeXRob24gbW9kdWxlLgogKi8KKGZ1bmN0aW9uKHNjb3BlKSB7CmZ1bmN0aW9uIHNwYW4odGV4dCwgc3R5bGVBdHRyaWJ1dGVzID0ge30pIHsKICBjb25zdCBlbGVtZW50ID0gZG9jdW1lbnQuY3JlYXRlRWxlbWVudCgnc3BhbicpOwogIGVsZW1lbnQudGV4dENvbnRlbnQgPSB0ZXh0OwogIGZvciAoY29uc3Qga2V5IG9mIE9iamVjdC5rZXlzKHN0eWxlQXR0cmlidXRlcykpIHsKICAgIGVsZW1lbnQuc3R5bGVba2V5XSA9IHN0eWxlQXR0cmlidXRlc1trZXldOwogIH0KICByZXR1cm4gZWxlbWVudDsKfQoKLy8gTWF4IG51bWJlciBvZiBieXRlcyB3aGljaCB3aWxsIGJlIHVwbG9hZGVkIGF0IGEgdGltZS4KY29uc3QgTUFYX1BBWUxPQURfU0laRSA9IDEwMCAqIDEwMjQ7CgpmdW5jdGlvbiBfdXBsb2FkRmlsZXMoaW5wdXRJZCwgb3V0cHV0SWQpIHsKICBjb25zdCBzdGVwcyA9IHVwbG9hZEZpbGVzU3RlcChpbnB1dElkLCBvdXRwdXRJZCk7CiAgY29uc3Qgb3V0cHV0RWxlbWVudCA9IGRvY3VtZW50LmdldEVsZW1lbnRCeUlkKG91dHB1dElkKTsKICAvLyBDYWNoZSBzdGVwcyBvbiB0aGUgb3V0cHV0RWxlbWVudCB0byBtYWtlIGl0IGF2YWlsYWJsZSBmb3IgdGhlIG5leHQgY2FsbAogIC8vIHRvIHVwbG9hZEZpbGVzQ29udGludWUgZnJvbSBQeXRob24uCiAgb3V0cHV0RWxlbWVudC5zdGVwcyA9IHN0ZXBzOwoKICByZXR1cm4gX3VwbG9hZEZpbGVzQ29udGludWUob3V0cHV0SWQpOwp9CgovLyBUaGlzIGlzIHJvdWdobHkgYW4gYXN5bmMgZ2VuZXJhdG9yIChub3Qgc3VwcG9ydGVkIGluIHRoZSBicm93c2VyIHlldCksCi8vIHdoZXJlIHRoZXJlIGFyZSBtdWx0aXBsZSBhc3luY2hyb25vdXMgc3RlcHMgYW5kIHRoZSBQeXRob24gc2lkZSBpcyBnb2luZwovLyB0byBwb2xsIGZvciBjb21wbGV0aW9uIG9mIGVhY2ggc3RlcC4KLy8gVGhpcyB1c2VzIGEgUHJvbWlzZSB0byBibG9jayB0aGUgcHl0aG9uIHNpZGUgb24gY29tcGxldGlvbiBvZiBlYWNoIHN0ZXAsCi8vIHRoZW4gcGFzc2VzIHRoZSByZXN1bHQgb2YgdGhlIHByZXZpb3VzIHN0ZXAgYXMgdGhlIGlucHV0IHRvIHRoZSBuZXh0IHN0ZXAuCmZ1bmN0aW9uIF91cGxvYWRGaWxlc0NvbnRpbnVlKG91dHB1dElkKSB7CiAgY29uc3Qgb3V0cHV0RWxlbWVudCA9IGRvY3VtZW50LmdldEVsZW1lbnRCeUlkKG91dHB1dElkKTsKICBjb25zdCBzdGVwcyA9IG91dHB1dEVsZW1lbnQuc3RlcHM7CgogIGNvbnN0IG5leHQgPSBzdGVwcy5uZXh0KG91dHB1dEVsZW1lbnQubGFzdFByb21pc2VWYWx1ZSk7CiAgcmV0dXJuIFByb21pc2UucmVzb2x2ZShuZXh0LnZhbHVlLnByb21pc2UpLnRoZW4oKHZhbHVlKSA9PiB7CiAgICAvLyBDYWNoZSB0aGUgbGFzdCBwcm9taXNlIHZhbHVlIHRvIG1ha2UgaXQgYXZhaWxhYmxlIHRvIHRoZSBuZXh0CiAgICAvLyBzdGVwIG9mIHRoZSBnZW5lcmF0b3IuCiAgICBvdXRwdXRFbGVtZW50Lmxhc3RQcm9taXNlVmFsdWUgPSB2YWx1ZTsKICAgIHJldHVybiBuZXh0LnZhbHVlLnJlc3BvbnNlOwogIH0pOwp9CgovKioKICogR2VuZXJhdG9yIGZ1bmN0aW9uIHdoaWNoIGlzIGNhbGxlZCBiZXR3ZWVuIGVhY2ggYXN5bmMgc3RlcCBvZiB0aGUgdXBsb2FkCiAqIHByb2Nlc3MuCiAqIEBwYXJhbSB7c3RyaW5nfSBpbnB1dElkIEVsZW1lbnQgSUQgb2YgdGhlIGlucHV0IGZpbGUgcGlja2VyIGVsZW1lbnQuCiAqIEBwYXJhbSB7c3RyaW5nfSBvdXRwdXRJZCBFbGVtZW50IElEIG9mIHRoZSBvdXRwdXQgZGlzcGxheS4KICogQHJldHVybiB7IUl0ZXJhYmxlPCFPYmplY3Q+fSBJdGVyYWJsZSBvZiBuZXh0IHN0ZXBzLgogKi8KZnVuY3Rpb24qIHVwbG9hZEZpbGVzU3RlcChpbnB1dElkLCBvdXRwdXRJZCkgewogIGNvbnN0IGlucHV0RWxlbWVudCA9IGRvY3VtZW50LmdldEVsZW1lbnRCeUlkKGlucHV0SWQpOwogIGlucHV0RWxlbWVudC5kaXNhYmxlZCA9IGZhbHNlOwoKICBjb25zdCBvdXRwdXRFbGVtZW50ID0gZG9jdW1lbnQuZ2V0RWxlbWVudEJ5SWQob3V0cHV0SWQpOwogIG91dHB1dEVsZW1lbnQuaW5uZXJIVE1MID0gJyc7CgogIGNvbnN0IHBpY2tlZFByb21pc2UgPSBuZXcgUHJvbWlzZSgocmVzb2x2ZSkgPT4gewogICAgaW5wdXRFbGVtZW50LmFkZEV2ZW50TGlzdGVuZXIoJ2NoYW5nZScsIChlKSA9PiB7CiAgICAgIHJlc29sdmUoZS50YXJnZXQuZmlsZXMpOwogICAgfSk7CiAgfSk7CgogIGNvbnN0IGNhbmNlbCA9IGRvY3VtZW50LmNyZWF0ZUVsZW1lbnQoJ2J1dHRvbicpOwogIGlucHV0RWxlbWVudC5wYXJlbnRFbGVtZW50LmFwcGVuZENoaWxkKGNhbmNlbCk7CiAgY2FuY2VsLnRleHRDb250ZW50ID0gJ0NhbmNlbCB1cGxvYWQnOwogIGNvbnN0IGNhbmNlbFByb21pc2UgPSBuZXcgUHJvbWlzZSgocmVzb2x2ZSkgPT4gewogICAgY2FuY2VsLm9uY2xpY2sgPSAoKSA9PiB7CiAgICAgIHJlc29sdmUobnVsbCk7CiAgICB9OwogIH0pOwoKICAvLyBXYWl0IGZvciB0aGUgdXNlciB0byBwaWNrIHRoZSBmaWxlcy4KICBjb25zdCBmaWxlcyA9IHlpZWxkIHsKICAgIHByb21pc2U6IFByb21pc2UucmFjZShbcGlja2VkUHJvbWlzZSwgY2FuY2VsUHJvbWlzZV0pLAogICAgcmVzcG9uc2U6IHsKICAgICAgYWN0aW9uOiAnc3RhcnRpbmcnLAogICAgfQogIH07CgogIGNhbmNlbC5yZW1vdmUoKTsKCiAgLy8gRGlzYWJsZSB0aGUgaW5wdXQgZWxlbWVudCBzaW5jZSBmdXJ0aGVyIHBpY2tzIGFyZSBub3QgYWxsb3dlZC4KICBpbnB1dEVsZW1lbnQuZGlzYWJsZWQgPSB0cnVlOwoKICBpZiAoIWZpbGVzKSB7CiAgICByZXR1cm4gewogICAgICByZXNwb25zZTogewogICAgICAgIGFjdGlvbjogJ2NvbXBsZXRlJywKICAgICAgfQogICAgfTsKICB9CgogIGZvciAoY29uc3QgZmlsZSBvZiBmaWxlcykgewogICAgY29uc3QgbGkgPSBkb2N1bWVudC5jcmVhdGVFbGVtZW50KCdsaScpOwogICAgbGkuYXBwZW5kKHNwYW4oZmlsZS5uYW1lLCB7Zm9udFdlaWdodDogJ2JvbGQnfSkpOwogICAgbGkuYXBwZW5kKHNwYW4oCiAgICAgICAgYCgke2ZpbGUudHlwZSB8fCAnbi9hJ30pIC0gJHtmaWxlLnNpemV9IGJ5dGVzLCBgICsKICAgICAgICBgbGFzdCBtb2RpZmllZDogJHsKICAgICAgICAgICAgZmlsZS5sYXN0TW9kaWZpZWREYXRlID8gZmlsZS5sYXN0TW9kaWZpZWREYXRlLnRvTG9jYWxlRGF0ZVN0cmluZygpIDoKICAgICAgICAgICAgICAgICAgICAgICAgICAgICAgICAgICAgJ24vYSd9IC0gYCkpOwogICAgY29uc3QgcGVyY2VudCA9IHNwYW4oJzAlIGRvbmUnKTsKICAgIGxpLmFwcGVuZENoaWxkKHBlcmNlbnQpOwoKICAgIG91dHB1dEVsZW1lbnQuYXBwZW5kQ2hpbGQobGkpOwoKICAgIGNvbnN0IGZpbGVEYXRhUHJvbWlzZSA9IG5ldyBQcm9taXNlKChyZXNvbHZlKSA9PiB7CiAgICAgIGNvbnN0IHJlYWRlciA9IG5ldyBGaWxlUmVhZGVyKCk7CiAgICAgIHJlYWRlci5vbmxvYWQgPSAoZSkgPT4gewogICAgICAgIHJlc29sdmUoZS50YXJnZXQucmVzdWx0KTsKICAgICAgfTsKICAgICAgcmVhZGVyLnJlYWRBc0FycmF5QnVmZmVyKGZpbGUpOwogICAgfSk7CiAgICAvLyBXYWl0IGZvciB0aGUgZGF0YSB0byBiZSByZWFkeS4KICAgIGxldCBmaWxlRGF0YSA9IHlpZWxkIHsKICAgICAgcHJvbWlzZTogZmlsZURhdGFQcm9taXNlLAogICAgICByZXNwb25zZTogewogICAgICAgIGFjdGlvbjogJ2NvbnRpbnVlJywKICAgICAgfQogICAgfTsKCiAgICAvLyBVc2UgYSBjaHVua2VkIHNlbmRpbmcgdG8gYXZvaWQgbWVzc2FnZSBzaXplIGxpbWl0cy4gU2VlIGIvNjIxMTU2NjAuCiAgICBsZXQgcG9zaXRpb24gPSAwOwogICAgZG8gewogICAgICBjb25zdCBsZW5ndGggPSBNYXRoLm1pbihmaWxlRGF0YS5ieXRlTGVuZ3RoIC0gcG9zaXRpb24sIE1BWF9QQVlMT0FEX1NJWkUpOwogICAgICBjb25zdCBjaHVuayA9IG5ldyBVaW50OEFycmF5KGZpbGVEYXRhLCBwb3NpdGlvbiwgbGVuZ3RoKTsKICAgICAgcG9zaXRpb24gKz0gbGVuZ3RoOwoKICAgICAgY29uc3QgYmFzZTY0ID0gYnRvYShTdHJpbmcuZnJvbUNoYXJDb2RlLmFwcGx5KG51bGwsIGNodW5rKSk7CiAgICAgIHlpZWxkIHsKICAgICAgICByZXNwb25zZTogewogICAgICAgICAgYWN0aW9uOiAnYXBwZW5kJywKICAgICAgICAgIGZpbGU6IGZpbGUubmFtZSwKICAgICAgICAgIGRhdGE6IGJhc2U2NCwKICAgICAgICB9LAogICAgICB9OwoKICAgICAgbGV0IHBlcmNlbnREb25lID0gZmlsZURhdGEuYnl0ZUxlbmd0aCA9PT0gMCA/CiAgICAgICAgICAxMDAgOgogICAgICAgICAgTWF0aC5yb3VuZCgocG9zaXRpb24gLyBmaWxlRGF0YS5ieXRlTGVuZ3RoKSAqIDEwMCk7CiAgICAgIHBlcmNlbnQudGV4dENvbnRlbnQgPSBgJHtwZXJjZW50RG9uZX0lIGRvbmVgOwoKICAgIH0gd2hpbGUgKHBvc2l0aW9uIDwgZmlsZURhdGEuYnl0ZUxlbmd0aCk7CiAgfQoKICAvLyBBbGwgZG9uZS4KICB5aWVsZCB7CiAgICByZXNwb25zZTogewogICAgICBhY3Rpb246ICdjb21wbGV0ZScsCiAgICB9CiAgfTsKfQoKc2NvcGUuZ29vZ2xlID0gc2NvcGUuZ29vZ2xlIHx8IHt9OwpzY29wZS5nb29nbGUuY29sYWIgPSBzY29wZS5nb29nbGUuY29sYWIgfHwge307CnNjb3BlLmdvb2dsZS5jb2xhYi5fZmlsZXMgPSB7CiAgX3VwbG9hZEZpbGVzLAogIF91cGxvYWRGaWxlc0NvbnRpbnVlLAp9Owp9KShzZWxmKTsK",
              "ok": true,
              "headers": [
                [
                  "content-type",
                  "application/javascript"
                ]
              ],
              "status": 200,
              "status_text": "OK"
            }
          }
        },
        "id": "OmhLz928ALsG",
        "outputId": "d082d985-8157-4b0b-9e8a-3d34171d8fe3"
      },
      "outputs": [
        {
          "output_type": "display_data",
          "data": {
            "text/plain": [
              "<IPython.core.display.HTML object>"
            ],
            "text/html": [
              "\n",
              "     <input type=\"file\" id=\"files-5ede0253-7d7c-4287-8c0d-f1e2013fd079\" name=\"files[]\" multiple disabled\n",
              "        style=\"border:none\" />\n",
              "     <output id=\"result-5ede0253-7d7c-4287-8c0d-f1e2013fd079\">\n",
              "      Upload widget is only available when the cell has been executed in the\n",
              "      current browser session. Please rerun this cell to enable.\n",
              "      </output>\n",
              "      <script src=\"/nbextensions/google.colab/files.js\"></script> "
            ]
          },
          "metadata": {}
        },
        {
          "output_type": "stream",
          "name": "stdout",
          "text": [
            "Saving squad1.1.zip to squad1.1.zip\n"
          ]
        }
      ],
      "source": [
        "uploaded = files.upload()"
      ]
    },
    {
      "cell_type": "code",
      "source": [
        "!unzip squad1.1.zip"
      ],
      "metadata": {
        "id": "20p1-0h6BMvG",
        "colab": {
          "base_uri": "https://localhost:8080/"
        },
        "outputId": "c08111af-a53f-44bf-a55b-e27a663ad511"
      },
      "execution_count": 3,
      "outputs": [
        {
          "output_type": "stream",
          "name": "stdout",
          "text": [
            "Archive:  squad1.1.zip\n",
            "  inflating: dev-v1.1.json           \n",
            "  inflating: train-v1.1.json         \n"
          ]
        }
      ]
    },
    {
      "cell_type": "code",
      "source": [
        "dev_df = pd.read_json('/content/dev-v1.1.json')\n",
        "train_df = pd.read_json('/content/train-v1.1.json')"
      ],
      "metadata": {
        "id": "UXzqyRQ2Gcb_"
      },
      "execution_count": 4,
      "outputs": []
    },
    {
      "cell_type": "markdown",
      "source": [
        "# Inspecting files"
      ],
      "metadata": {
        "id": "uH2__BIkZirV"
      }
    },
    {
      "cell_type": "code",
      "source": [
        "dev_df.head()"
      ],
      "metadata": {
        "colab": {
          "base_uri": "https://localhost:8080/",
          "height": 206
        },
        "id": "5zmvgLpBKB7D",
        "outputId": "2e028738-8758-44e9-fc73-0029042fb9c0"
      },
      "execution_count": null,
      "outputs": [
        {
          "output_type": "execute_result",
          "data": {
            "text/plain": [
              "                                                data  version\n",
              "0  {'title': 'Super_Bowl_50', 'paragraphs': [{'co...      1.1\n",
              "1  {'title': 'Warsaw', 'paragraphs': [{'context':...      1.1\n",
              "2  {'title': 'Normans', 'paragraphs': [{'context'...      1.1\n",
              "3  {'title': 'Nikola_Tesla', 'paragraphs': [{'con...      1.1\n",
              "4  {'title': 'Computational_complexity_theory', '...      1.1"
            ],
            "text/html": [
              "\n",
              "  <div id=\"df-a932fe52-7012-4c71-bc07-dd34f206d8ac\">\n",
              "    <div class=\"colab-df-container\">\n",
              "      <div>\n",
              "<style scoped>\n",
              "    .dataframe tbody tr th:only-of-type {\n",
              "        vertical-align: middle;\n",
              "    }\n",
              "\n",
              "    .dataframe tbody tr th {\n",
              "        vertical-align: top;\n",
              "    }\n",
              "\n",
              "    .dataframe thead th {\n",
              "        text-align: right;\n",
              "    }\n",
              "</style>\n",
              "<table border=\"1\" class=\"dataframe\">\n",
              "  <thead>\n",
              "    <tr style=\"text-align: right;\">\n",
              "      <th></th>\n",
              "      <th>data</th>\n",
              "      <th>version</th>\n",
              "    </tr>\n",
              "  </thead>\n",
              "  <tbody>\n",
              "    <tr>\n",
              "      <th>0</th>\n",
              "      <td>{'title': 'Super_Bowl_50', 'paragraphs': [{'co...</td>\n",
              "      <td>1.1</td>\n",
              "    </tr>\n",
              "    <tr>\n",
              "      <th>1</th>\n",
              "      <td>{'title': 'Warsaw', 'paragraphs': [{'context':...</td>\n",
              "      <td>1.1</td>\n",
              "    </tr>\n",
              "    <tr>\n",
              "      <th>2</th>\n",
              "      <td>{'title': 'Normans', 'paragraphs': [{'context'...</td>\n",
              "      <td>1.1</td>\n",
              "    </tr>\n",
              "    <tr>\n",
              "      <th>3</th>\n",
              "      <td>{'title': 'Nikola_Tesla', 'paragraphs': [{'con...</td>\n",
              "      <td>1.1</td>\n",
              "    </tr>\n",
              "    <tr>\n",
              "      <th>4</th>\n",
              "      <td>{'title': 'Computational_complexity_theory', '...</td>\n",
              "      <td>1.1</td>\n",
              "    </tr>\n",
              "  </tbody>\n",
              "</table>\n",
              "</div>\n",
              "      <button class=\"colab-df-convert\" onclick=\"convertToInteractive('df-a932fe52-7012-4c71-bc07-dd34f206d8ac')\"\n",
              "              title=\"Convert this dataframe to an interactive table.\"\n",
              "              style=\"display:none;\">\n",
              "        \n",
              "  <svg xmlns=\"http://www.w3.org/2000/svg\" height=\"24px\"viewBox=\"0 0 24 24\"\n",
              "       width=\"24px\">\n",
              "    <path d=\"M0 0h24v24H0V0z\" fill=\"none\"/>\n",
              "    <path d=\"M18.56 5.44l.94 2.06.94-2.06 2.06-.94-2.06-.94-.94-2.06-.94 2.06-2.06.94zm-11 1L8.5 8.5l.94-2.06 2.06-.94-2.06-.94L8.5 2.5l-.94 2.06-2.06.94zm10 10l.94 2.06.94-2.06 2.06-.94-2.06-.94-.94-2.06-.94 2.06-2.06.94z\"/><path d=\"M17.41 7.96l-1.37-1.37c-.4-.4-.92-.59-1.43-.59-.52 0-1.04.2-1.43.59L10.3 9.45l-7.72 7.72c-.78.78-.78 2.05 0 2.83L4 21.41c.39.39.9.59 1.41.59.51 0 1.02-.2 1.41-.59l7.78-7.78 2.81-2.81c.8-.78.8-2.07 0-2.86zM5.41 20L4 18.59l7.72-7.72 1.47 1.35L5.41 20z\"/>\n",
              "  </svg>\n",
              "      </button>\n",
              "      \n",
              "  <style>\n",
              "    .colab-df-container {\n",
              "      display:flex;\n",
              "      flex-wrap:wrap;\n",
              "      gap: 12px;\n",
              "    }\n",
              "\n",
              "    .colab-df-convert {\n",
              "      background-color: #E8F0FE;\n",
              "      border: none;\n",
              "      border-radius: 50%;\n",
              "      cursor: pointer;\n",
              "      display: none;\n",
              "      fill: #1967D2;\n",
              "      height: 32px;\n",
              "      padding: 0 0 0 0;\n",
              "      width: 32px;\n",
              "    }\n",
              "\n",
              "    .colab-df-convert:hover {\n",
              "      background-color: #E2EBFA;\n",
              "      box-shadow: 0px 1px 2px rgba(60, 64, 67, 0.3), 0px 1px 3px 1px rgba(60, 64, 67, 0.15);\n",
              "      fill: #174EA6;\n",
              "    }\n",
              "\n",
              "    [theme=dark] .colab-df-convert {\n",
              "      background-color: #3B4455;\n",
              "      fill: #D2E3FC;\n",
              "    }\n",
              "\n",
              "    [theme=dark] .colab-df-convert:hover {\n",
              "      background-color: #434B5C;\n",
              "      box-shadow: 0px 1px 3px 1px rgba(0, 0, 0, 0.15);\n",
              "      filter: drop-shadow(0px 1px 2px rgba(0, 0, 0, 0.3));\n",
              "      fill: #FFFFFF;\n",
              "    }\n",
              "  </style>\n",
              "\n",
              "      <script>\n",
              "        const buttonEl =\n",
              "          document.querySelector('#df-a932fe52-7012-4c71-bc07-dd34f206d8ac button.colab-df-convert');\n",
              "        buttonEl.style.display =\n",
              "          google.colab.kernel.accessAllowed ? 'block' : 'none';\n",
              "\n",
              "        async function convertToInteractive(key) {\n",
              "          const element = document.querySelector('#df-a932fe52-7012-4c71-bc07-dd34f206d8ac');\n",
              "          const dataTable =\n",
              "            await google.colab.kernel.invokeFunction('convertToInteractive',\n",
              "                                                     [key], {});\n",
              "          if (!dataTable) return;\n",
              "\n",
              "          const docLinkHtml = 'Like what you see? Visit the ' +\n",
              "            '<a target=\"_blank\" href=https://colab.research.google.com/notebooks/data_table.ipynb>data table notebook</a>'\n",
              "            + ' to learn more about interactive tables.';\n",
              "          element.innerHTML = '';\n",
              "          dataTable['output_type'] = 'display_data';\n",
              "          await google.colab.output.renderOutput(dataTable, element);\n",
              "          const docLink = document.createElement('div');\n",
              "          docLink.innerHTML = docLinkHtml;\n",
              "          element.appendChild(docLink);\n",
              "        }\n",
              "      </script>\n",
              "    </div>\n",
              "  </div>\n",
              "  "
            ]
          },
          "metadata": {},
          "execution_count": 4
        }
      ]
    },
    {
      "cell_type": "code",
      "source": [
        "train_df.head()"
      ],
      "metadata": {
        "colab": {
          "base_uri": "https://localhost:8080/",
          "height": 206
        },
        "id": "nLBHaI9nKcqu",
        "outputId": "2c9ca876-6e26-4595-da5c-5ca23aea7f01"
      },
      "execution_count": null,
      "outputs": [
        {
          "output_type": "execute_result",
          "data": {
            "text/plain": [
              "                                                data  version\n",
              "0  {'title': 'University_of_Notre_Dame', 'paragra...      1.1\n",
              "1  {'title': 'Beyoncé', 'paragraphs': [{'context'...      1.1\n",
              "2  {'title': 'Montana', 'paragraphs': [{'context'...      1.1\n",
              "3  {'title': 'Genocide', 'paragraphs': [{'context...      1.1\n",
              "4  {'title': 'Antibiotics', 'paragraphs': [{'cont...      1.1"
            ],
            "text/html": [
              "\n",
              "  <div id=\"df-62138523-c639-42ca-ab88-3faa7400a001\">\n",
              "    <div class=\"colab-df-container\">\n",
              "      <div>\n",
              "<style scoped>\n",
              "    .dataframe tbody tr th:only-of-type {\n",
              "        vertical-align: middle;\n",
              "    }\n",
              "\n",
              "    .dataframe tbody tr th {\n",
              "        vertical-align: top;\n",
              "    }\n",
              "\n",
              "    .dataframe thead th {\n",
              "        text-align: right;\n",
              "    }\n",
              "</style>\n",
              "<table border=\"1\" class=\"dataframe\">\n",
              "  <thead>\n",
              "    <tr style=\"text-align: right;\">\n",
              "      <th></th>\n",
              "      <th>data</th>\n",
              "      <th>version</th>\n",
              "    </tr>\n",
              "  </thead>\n",
              "  <tbody>\n",
              "    <tr>\n",
              "      <th>0</th>\n",
              "      <td>{'title': 'University_of_Notre_Dame', 'paragra...</td>\n",
              "      <td>1.1</td>\n",
              "    </tr>\n",
              "    <tr>\n",
              "      <th>1</th>\n",
              "      <td>{'title': 'Beyoncé', 'paragraphs': [{'context'...</td>\n",
              "      <td>1.1</td>\n",
              "    </tr>\n",
              "    <tr>\n",
              "      <th>2</th>\n",
              "      <td>{'title': 'Montana', 'paragraphs': [{'context'...</td>\n",
              "      <td>1.1</td>\n",
              "    </tr>\n",
              "    <tr>\n",
              "      <th>3</th>\n",
              "      <td>{'title': 'Genocide', 'paragraphs': [{'context...</td>\n",
              "      <td>1.1</td>\n",
              "    </tr>\n",
              "    <tr>\n",
              "      <th>4</th>\n",
              "      <td>{'title': 'Antibiotics', 'paragraphs': [{'cont...</td>\n",
              "      <td>1.1</td>\n",
              "    </tr>\n",
              "  </tbody>\n",
              "</table>\n",
              "</div>\n",
              "      <button class=\"colab-df-convert\" onclick=\"convertToInteractive('df-62138523-c639-42ca-ab88-3faa7400a001')\"\n",
              "              title=\"Convert this dataframe to an interactive table.\"\n",
              "              style=\"display:none;\">\n",
              "        \n",
              "  <svg xmlns=\"http://www.w3.org/2000/svg\" height=\"24px\"viewBox=\"0 0 24 24\"\n",
              "       width=\"24px\">\n",
              "    <path d=\"M0 0h24v24H0V0z\" fill=\"none\"/>\n",
              "    <path d=\"M18.56 5.44l.94 2.06.94-2.06 2.06-.94-2.06-.94-.94-2.06-.94 2.06-2.06.94zm-11 1L8.5 8.5l.94-2.06 2.06-.94-2.06-.94L8.5 2.5l-.94 2.06-2.06.94zm10 10l.94 2.06.94-2.06 2.06-.94-2.06-.94-.94-2.06-.94 2.06-2.06.94z\"/><path d=\"M17.41 7.96l-1.37-1.37c-.4-.4-.92-.59-1.43-.59-.52 0-1.04.2-1.43.59L10.3 9.45l-7.72 7.72c-.78.78-.78 2.05 0 2.83L4 21.41c.39.39.9.59 1.41.59.51 0 1.02-.2 1.41-.59l7.78-7.78 2.81-2.81c.8-.78.8-2.07 0-2.86zM5.41 20L4 18.59l7.72-7.72 1.47 1.35L5.41 20z\"/>\n",
              "  </svg>\n",
              "      </button>\n",
              "      \n",
              "  <style>\n",
              "    .colab-df-container {\n",
              "      display:flex;\n",
              "      flex-wrap:wrap;\n",
              "      gap: 12px;\n",
              "    }\n",
              "\n",
              "    .colab-df-convert {\n",
              "      background-color: #E8F0FE;\n",
              "      border: none;\n",
              "      border-radius: 50%;\n",
              "      cursor: pointer;\n",
              "      display: none;\n",
              "      fill: #1967D2;\n",
              "      height: 32px;\n",
              "      padding: 0 0 0 0;\n",
              "      width: 32px;\n",
              "    }\n",
              "\n",
              "    .colab-df-convert:hover {\n",
              "      background-color: #E2EBFA;\n",
              "      box-shadow: 0px 1px 2px rgba(60, 64, 67, 0.3), 0px 1px 3px 1px rgba(60, 64, 67, 0.15);\n",
              "      fill: #174EA6;\n",
              "    }\n",
              "\n",
              "    [theme=dark] .colab-df-convert {\n",
              "      background-color: #3B4455;\n",
              "      fill: #D2E3FC;\n",
              "    }\n",
              "\n",
              "    [theme=dark] .colab-df-convert:hover {\n",
              "      background-color: #434B5C;\n",
              "      box-shadow: 0px 1px 3px 1px rgba(0, 0, 0, 0.15);\n",
              "      filter: drop-shadow(0px 1px 2px rgba(0, 0, 0, 0.3));\n",
              "      fill: #FFFFFF;\n",
              "    }\n",
              "  </style>\n",
              "\n",
              "      <script>\n",
              "        const buttonEl =\n",
              "          document.querySelector('#df-62138523-c639-42ca-ab88-3faa7400a001 button.colab-df-convert');\n",
              "        buttonEl.style.display =\n",
              "          google.colab.kernel.accessAllowed ? 'block' : 'none';\n",
              "\n",
              "        async function convertToInteractive(key) {\n",
              "          const element = document.querySelector('#df-62138523-c639-42ca-ab88-3faa7400a001');\n",
              "          const dataTable =\n",
              "            await google.colab.kernel.invokeFunction('convertToInteractive',\n",
              "                                                     [key], {});\n",
              "          if (!dataTable) return;\n",
              "\n",
              "          const docLinkHtml = 'Like what you see? Visit the ' +\n",
              "            '<a target=\"_blank\" href=https://colab.research.google.com/notebooks/data_table.ipynb>data table notebook</a>'\n",
              "            + ' to learn more about interactive tables.';\n",
              "          element.innerHTML = '';\n",
              "          dataTable['output_type'] = 'display_data';\n",
              "          await google.colab.output.renderOutput(dataTable, element);\n",
              "          const docLink = document.createElement('div');\n",
              "          docLink.innerHTML = docLinkHtml;\n",
              "          element.appendChild(docLink);\n",
              "        }\n",
              "      </script>\n",
              "    </div>\n",
              "  </div>\n",
              "  "
            ]
          },
          "metadata": {},
          "execution_count": 5
        }
      ]
    },
    {
      "cell_type": "code",
      "source": [
        "print(f'Size of train df: {train_df.size}\\nSize of dev df: {dev_df.size}')"
      ],
      "metadata": {
        "colab": {
          "base_uri": "https://localhost:8080/"
        },
        "id": "XlZu1kinRw8n",
        "outputId": "b1e386cf-b074-4644-b9ed-bc134ae1e953"
      },
      "execution_count": null,
      "outputs": [
        {
          "output_type": "stream",
          "name": "stdout",
          "text": [
            "Size of train df: 884\n",
            "Size of dev df: 96\n"
          ]
        }
      ]
    },
    {
      "cell_type": "code",
      "source": [
        "first_entry_dict = train_df.loc[0]['data']"
      ],
      "metadata": {
        "id": "1EjTsbz-IHZ3"
      },
      "execution_count": null,
      "outputs": []
    },
    {
      "cell_type": "code",
      "source": [
        "first_entry_paragraph_list = first_entry_dict['paragraphs']\n",
        "len(first_entry_paragraph_list)"
      ],
      "metadata": {
        "colab": {
          "base_uri": "https://localhost:8080/"
        },
        "id": "yWjm6INSIsn-",
        "outputId": "53efb92f-89b2-4339-b6c2-1f93fd126a8b"
      },
      "execution_count": null,
      "outputs": [
        {
          "output_type": "execute_result",
          "data": {
            "text/plain": [
              "55"
            ]
          },
          "metadata": {},
          "execution_count": 8
        }
      ]
    },
    {
      "cell_type": "code",
      "source": [
        "first_entry_paragraph_list[2]"
      ],
      "metadata": {
        "colab": {
          "base_uri": "https://localhost:8080/"
        },
        "id": "8AiLHRikI_Sr",
        "outputId": "d6415ca9-ef39-45dc-ea74-273c226c8019"
      },
      "execution_count": null,
      "outputs": [
        {
          "output_type": "execute_result",
          "data": {
            "text/plain": [
              "{'context': 'The university is the major seat of the Congregation of Holy Cross (albeit not its official headquarters, which are in Rome). Its main seminary, Moreau Seminary, is located on the campus across St. Joseph lake from the Main Building. Old College, the oldest building on campus and located near the shore of St. Mary lake, houses undergraduate seminarians. Retired priests and brothers reside in Fatima House (a former retreat center), Holy Cross House, as well as Columba Hall near the Grotto. The university through the Moreau Seminary has ties to theologian Frederick Buechner. While not Catholic, Buechner has praised writers from Notre Dame and Moreau Seminary created a Buechner Prize for Preaching.',\n",
              " 'qas': [{'answers': [{'answer_start': 119, 'text': 'Rome'}],\n",
              "   'question': 'Where is the headquarters of the Congregation of the Holy Cross?',\n",
              "   'id': '5733bed24776f41900661188'},\n",
              "  {'answers': [{'answer_start': 145, 'text': 'Moreau Seminary'}],\n",
              "   'question': 'What is the primary seminary of the Congregation of the Holy Cross?',\n",
              "   'id': '5733bed24776f41900661189'},\n",
              "  {'answers': [{'answer_start': 234, 'text': 'Old College'}],\n",
              "   'question': 'What is the oldest structure at Notre Dame?',\n",
              "   'id': '5733bed24776f4190066118a'},\n",
              "  {'answers': [{'answer_start': 356, 'text': 'Retired priests and brothers'}],\n",
              "   'question': 'What individuals live at Fatima House at Notre Dame?',\n",
              "   'id': '5733bed24776f4190066118b'},\n",
              "  {'answers': [{'answer_start': 675, 'text': 'Buechner Prize for Preaching'}],\n",
              "   'question': 'Which prize did Frederick Buechner create?',\n",
              "   'id': '5733bed24776f4190066118c'}]}"
            ]
          },
          "metadata": {},
          "execution_count": 9
        }
      ]
    },
    {
      "cell_type": "markdown",
      "source": [
        "# First attempt\n",
        "Simply using off the shelf package with default settings.\n",
        "\n",
        "Working with `dev df` which is smaller.\n",
        "\n",
        "Looping over entries and collecting all documents to a list."
      ],
      "metadata": {
        "id": "nhvOzHmgVSQP"
      }
    },
    {
      "cell_type": "code",
      "source": [
        "def get_tf_idf_query_similarity(vectorizer, docs_tfidf, query):\n",
        "    \"\"\"\n",
        "    vectorizer: TfIdfVectorizer model\n",
        "    docs_tfidf: tfidf vectors for all docs\n",
        "    query: query doc\n",
        "\n",
        "    return: cosine similarity between query and all docs\n",
        "    \"\"\"\n",
        "    query_tfidf = vectorizer.transform([query])\n",
        "    cosine_similarities = cosine_similarity(query_tfidf, docs_tfidf).flatten()\n",
        "    return cosine_similarities"
      ],
      "metadata": {
        "id": "208yRD0CmFKg"
      },
      "execution_count": null,
      "outputs": []
    },
    {
      "cell_type": "code",
      "source": [
        "docs = []\n",
        "\n",
        "# Take all contexts from the first entry\n",
        "for row in dev_df.iterrows():\n",
        "    for context_container in row[1]['data']['paragraphs']:\n",
        "        docs.append(context_container['context'])\n",
        "    break"
      ],
      "metadata": {
        "id": "1LInma6BVaKo"
      },
      "execution_count": null,
      "outputs": []
    },
    {
      "cell_type": "code",
      "source": [
        "docs[1]"
      ],
      "metadata": {
        "colab": {
          "base_uri": "https://localhost:8080/",
          "height": 104
        },
        "id": "fkOoNu_CXmfk",
        "outputId": "5e5d50bb-1418-412b-95e6-187de6c276a5"
      },
      "execution_count": null,
      "outputs": [
        {
          "output_type": "execute_result",
          "data": {
            "text/plain": [
              "'The Panthers finished the regular season with a 15–1 record, and quarterback Cam Newton was named the NFL Most Valuable Player (MVP). They defeated the Arizona Cardinals 49–15 in the NFC Championship Game and advanced to their second Super Bowl appearance since the franchise was founded in 1995. The Broncos finished the regular season with a 12–4 record, and denied the New England Patriots a chance to defend their title from Super Bowl XLIX by defeating them 20–18 in the AFC Championship Game. They joined the Patriots, Dallas Cowboys, and Pittsburgh Steelers as one of four teams that have made eight appearances in the Super Bowl.'"
            ],
            "application/vnd.google.colaboratory.intrinsic+json": {
              "type": "string"
            }
          },
          "metadata": {},
          "execution_count": 70
        }
      ]
    },
    {
      "cell_type": "code",
      "source": [
        "test_query = dev_df.loc[0]['data']['paragraphs'][0]['qas'][0]['question']\n",
        "print(test_query)"
      ],
      "metadata": {
        "colab": {
          "base_uri": "https://localhost:8080/"
        },
        "id": "UQVqXYHydOGD",
        "outputId": "86004e39-c716-41f9-8392-a3b9a0865397"
      },
      "execution_count": null,
      "outputs": [
        {
          "output_type": "stream",
          "name": "stdout",
          "text": [
            "Which NFL team represented the AFC at Super Bowl 50?\n"
          ]
        }
      ]
    },
    {
      "cell_type": "code",
      "source": [
        "vectorizer = TfidfVectorizer()\n",
        "X = vectorizer.fit_transform(docs)\n",
        "similarities = get_tf_idf_query_similarity(vectorizer, X, test_query)\n",
        "similarities"
      ],
      "metadata": {
        "colab": {
          "base_uri": "https://localhost:8080/"
        },
        "id": "qgPj8BTnX1MP",
        "outputId": "15dbb054-5c0e-44a3-adf8-f8855b6e9995"
      },
      "execution_count": null,
      "outputs": [
        {
          "output_type": "execute_result",
          "data": {
            "text/plain": [
              "array([0.27543024, 0.1759565 , 0.18249404, 0.20133135, 0.09559901,\n",
              "       0.02674949, 0.1145666 , 0.15295553, 0.1686911 , 0.11432257,\n",
              "       0.06915032, 0.13653447, 0.17279905, 0.05323222, 0.14545621,\n",
              "       0.03609297, 0.12941624, 0.04075817, 0.13262051, 0.11675527,\n",
              "       0.19683775, 0.10714899, 0.22965394, 0.12058915, 0.18740012,\n",
              "       0.15565143, 0.12038791, 0.10284747, 0.12416753, 0.15133524,\n",
              "       0.14467454, 0.15670718, 0.13241497, 0.05208188, 0.04342778,\n",
              "       0.05745362, 0.11678462, 0.04991092, 0.0380399 , 0.0132084 ,\n",
              "       0.08025308, 0.02072934, 0.13530058, 0.00702467, 0.07187037,\n",
              "       0.02921069, 0.14580041, 0.03538003, 0.06730245, 0.04144487,\n",
              "       0.09109213, 0.02710087, 0.02734329, 0.21146647])"
            ]
          },
          "metadata": {},
          "execution_count": 124
        }
      ]
    },
    {
      "cell_type": "code",
      "source": [
        "np.argmax(similarities)"
      ],
      "metadata": {
        "colab": {
          "base_uri": "https://localhost:8080/"
        },
        "id": "wSeP9NjclIBr",
        "outputId": "71a80d98-5ab6-44bf-932e-2157487fddc7"
      },
      "execution_count": null,
      "outputs": [
        {
          "output_type": "execute_result",
          "data": {
            "text/plain": [
              "0"
            ]
          },
          "metadata": {},
          "execution_count": 126
        }
      ]
    },
    {
      "cell_type": "markdown",
      "source": [
        "To test this approach, I want to check if the information retrieval is better than random."
      ],
      "metadata": {
        "id": "1yiHOiZMfsst"
      }
    },
    {
      "cell_type": "code",
      "source": [
        "num_docs = X.shape[0]\n",
        "print(f\"There are {num_docs} documents.\")\n",
        "print(f\"To be better than random, the algo has to match at least {1/num_docs * 100:.2f}% of the questions to the correct document.\")"
      ],
      "metadata": {
        "colab": {
          "base_uri": "https://localhost:8080/"
        },
        "id": "z_lgFC6Jf1lE",
        "outputId": "2e7c4b68-d246-4333-bf9d-ab19d63b3290"
      },
      "execution_count": null,
      "outputs": [
        {
          "output_type": "stream",
          "name": "stdout",
          "text": [
            "There are 54 documents.\n",
            "To be better than random, the algo has to match at least 1.85% of the questions to the correct document.\n"
          ]
        }
      ]
    },
    {
      "cell_type": "code",
      "source": [
        "# Take all questions from all contexts of the first entry\n",
        "questions, labels = [], []\n",
        "for row in dev_df.iterrows():\n",
        "    for label, paragraph in enumerate(row[1][\"data\"]['paragraphs']):\n",
        "        for qa_block in paragraph['qas']:\n",
        "            labels.append(label)\n",
        "            questions.append(qa_block['question'])\n",
        "    break\n",
        "# questions = np.asarray(questions)\n",
        "labels = np.asarray(labels)"
      ],
      "metadata": {
        "id": "-TClAYd7bRhE"
      },
      "execution_count": null,
      "outputs": []
    },
    {
      "cell_type": "code",
      "source": [
        "output = []\n",
        "for question in questions:\n",
        "    similarities_to_all_contexts = get_tf_idf_query_similarity(vectorizer, X, question)\n",
        "    most_similar_context = np.argmax(similarities_to_all_contexts)\n",
        "    output.append(most_similar_context)"
      ],
      "metadata": {
        "id": "4R_Hmu4Mk9tY"
      },
      "execution_count": null,
      "outputs": []
    },
    {
      "cell_type": "code",
      "source": [
        "output = np.asarray(output)"
      ],
      "metadata": {
        "id": "q1i3_Uppm2nW"
      },
      "execution_count": null,
      "outputs": []
    },
    {
      "cell_type": "code",
      "source": [
        "np.count_nonzero(np.equal(output, labels)) / output.size"
      ],
      "metadata": {
        "colab": {
          "base_uri": "https://localhost:8080/"
        },
        "id": "OslCpJ5snI63",
        "outputId": "4a1f3bab-253e-4e5f-cc16-4254f2dc83ab"
      },
      "execution_count": null,
      "outputs": [
        {
          "output_type": "execute_result",
          "data": {
            "text/plain": [
              "0.5703703703703704"
            ]
          },
          "metadata": {},
          "execution_count": 138
        }
      ]
    },
    {
      "cell_type": "markdown",
      "source": [
        "# Scaling implementation to entire dataset\n",
        "Steps:\n",
        "1. Collect all documents in a list\n",
        "2. Create TF-IDF matrix from doc list\n",
        "3. Collect all questions and their matching label to two lists\n",
        "4. Compute the vector representations for all questions\n",
        "5. Compute cosine similarities between each question representation and the document tf-idf matrix\n",
        "6. Take the index of the max value for each row of similarities\n",
        "7. Compute accuracies"
      ],
      "metadata": {
        "id": "rU0zyduPtBgf"
      }
    },
    {
      "cell_type": "code",
      "source": [
        "docs = []\n",
        "\n",
        "df = train_df\n",
        "\n",
        "# 1.\n",
        "for row in df.iterrows():\n",
        "    for context_container in row[1]['data']['paragraphs']:\n",
        "        docs.append(context_container['context'])"
      ],
      "metadata": {
        "id": "sVSOuoP7tGYa"
      },
      "execution_count": null,
      "outputs": []
    },
    {
      "cell_type": "code",
      "source": [
        "# 2.\n",
        "vectorizer = TfidfVectorizer()\n",
        "X = vectorizer.fit_transform(docs)"
      ],
      "metadata": {
        "id": "WjBtt0KIltdx"
      },
      "execution_count": null,
      "outputs": []
    },
    {
      "cell_type": "code",
      "source": [
        "# 3.\n",
        "questions, labels = [], []\n",
        "# Each row contains a set of paragraphs.\n",
        "# The outer for loop iterates through the rows\n",
        "for row_num, row in enumerate(df.iterrows()):\n",
        "    # This for iterates through the paragraphs contained in a single row\n",
        "    for paragraph_num, paragraph in enumerate(row[1][\"data\"]['paragraphs']):\n",
        "        # Each paragraph has multiple associated questions.\n",
        "        # The for loop iterates through them and collects them into a list.\n",
        "        # For each question, the number of the paragraph is saved to another list\n",
        "        for qa_block in paragraph['qas']:\n",
        "            labels.append(row_num + paragraph_num)\n",
        "            questions.append(qa_block['question'])\n",
        "labels = np.asarray(labels)"
      ],
      "metadata": {
        "id": "6PaufCZemNsb"
      },
      "execution_count": null,
      "outputs": []
    },
    {
      "cell_type": "code",
      "source": [
        "# 4. 5. 6.\n",
        "output = []\n",
        "for question in tqdm(questions):\n",
        "    similarities_to_all_contexts = get_tf_idf_query_similarity(vectorizer, X, question)\n",
        "    most_similar_context = np.argmax(similarities_to_all_contexts)\n",
        "    output.append(most_similar_context)"
      ],
      "metadata": {
        "id": "yiKOhMEHoT8X"
      },
      "execution_count": null,
      "outputs": []
    },
    {
      "cell_type": "markdown",
      "source": [
        "The above looping would take 1h 30 mins to find the best matching result for all 80.000 questions contained in the training set.\n",
        "A simple heuristic could speed up the process: group all paragraphs from the same entry into a single text. When the right text has been found, discriminate the right paragraph within that text.\n",
        "\n",
        "Maybe tuning the parameters of the tf idf implementation can help. Let's check the performance increase from stopword removal."
      ],
      "metadata": {
        "id": "YpmRf7dsp0m-"
      }
    },
    {
      "cell_type": "code",
      "source": [
        "vectorizer_without_stop_words = TfidfVectorizer(stop_words='english')\n",
        "X_without_stop_words = vectorizer_without_stop_words.fit_transform(docs)"
      ],
      "metadata": {
        "id": "VaiJdUHBuQdi"
      },
      "execution_count": null,
      "outputs": []
    },
    {
      "cell_type": "markdown",
      "source": [
        "Let's compare the sizes of the two TF IDF matrices."
      ],
      "metadata": {
        "id": "DmefUNY9vh85"
      }
    },
    {
      "cell_type": "code",
      "source": [
        "print(f\"Original tf idf matrix size:{X.shape}\\nTf idf without stop words:{X_without_stop_words.shape}\")"
      ],
      "metadata": {
        "colab": {
          "base_uri": "https://localhost:8080/"
        },
        "id": "Uv6Q3_-WvmjQ",
        "outputId": "1bcada82-da0e-490d-f173-90ea59d35c37"
      },
      "execution_count": null,
      "outputs": [
        {
          "output_type": "stream",
          "name": "stdout",
          "text": [
            "Original tf idf matrix size:(18896, 78537)\n",
            "Tf idf without stop words:(18896, 78230)\n"
          ]
        }
      ]
    },
    {
      "cell_type": "markdown",
      "source": [
        "## Optimizing what works\n",
        "The default english stop word parameter does not seem to make a big difference. Only about 300 words got removed.\n",
        "\n",
        "Since we are working with matrices, we could leverage linear algebra in place of slow for loops to speed up computations."
      ],
      "metadata": {
        "id": "TEyplonzxYkN"
      }
    },
    {
      "cell_type": "code",
      "source": [
        "def get_tf_idf_bulk_similarities(vectorizer, docs_tfidf, queries_list):\n",
        "    \"\"\"\n",
        "    vectorizer: TfIdfVectorizer model\n",
        "    docs_tfidf: tfidf vectors for all docs\n",
        "    query: query doc\n",
        "\n",
        "    return: cosine similarity between query and all docs\n",
        "    \"\"\"\n",
        "    query_tfidf = vectorizer.transform(queries_list)\n",
        "    cosine_similarities = cosine_similarity(query_tfidf, docs_tfidf).flatten()\n",
        "    return cosine_similarities"
      ],
      "metadata": {
        "id": "PDMTs5l0xdP2"
      },
      "execution_count": 18,
      "outputs": []
    },
    {
      "cell_type": "code",
      "source": [
        "vectorized_questions = vectorizer.transform(questions)"
      ],
      "metadata": {
        "id": "NXDFYy2byhs6"
      },
      "execution_count": null,
      "outputs": []
    },
    {
      "cell_type": "code",
      "source": [
        "print(f\"Vectorized questions shape:{vectorized_questions.shape}\\nVectorized paragraphs shape:{X.shape}\")"
      ],
      "metadata": {
        "colab": {
          "base_uri": "https://localhost:8080/"
        },
        "id": "uc1wWxrHy0W8",
        "outputId": "01bfbc61-cf0f-4c93-dc32-d9f27d316362"
      },
      "execution_count": null,
      "outputs": [
        {
          "output_type": "stream",
          "name": "stdout",
          "text": [
            "Vectorized questions shape:(87599, 78537)\n",
            "Vectorized paragraphs shape:(18896, 78537)\n"
          ]
        }
      ]
    },
    {
      "cell_type": "code",
      "source": [
        "vectorized_questions[0:1000].shape"
      ],
      "metadata": {
        "colab": {
          "base_uri": "https://localhost:8080/"
        },
        "id": "4-IyK3js2Xnh",
        "outputId": "bdd5bc6e-2b62-4dc1-d81f-d0b1cbfdd9da"
      },
      "execution_count": null,
      "outputs": [
        {
          "output_type": "execute_result",
          "data": {
            "text/plain": [
              "(1000, 78537)"
            ]
          },
          "metadata": {},
          "execution_count": 28
        }
      ]
    },
    {
      "cell_type": "code",
      "source": [
        "csr_matrix.argmax(cosine_similarity(vectorized_questions[:1000], X, dense_output=False), axis=1).shape"
      ],
      "metadata": {
        "colab": {
          "base_uri": "https://localhost:8080/"
        },
        "id": "0GVfyIMs2pHO",
        "outputId": "99c15332-e623-4e56-d9e3-154db38a8e7e"
      },
      "execution_count": null,
      "outputs": [
        {
          "output_type": "execute_result",
          "data": {
            "text/plain": [
              "(1000, 1)"
            ]
          },
          "metadata": {},
          "execution_count": 30
        }
      ]
    },
    {
      "cell_type": "code",
      "source": [
        "outputs = []\n",
        "step = int(1e4)\n",
        "stop = int(9e4)\n",
        "for i in tqdm(range(0, stop, step)):\n",
        "    outputs.append(csr_matrix.argmax(cosine_similarity(vectorized_questions[i:i+step], X, dense_output=False), axis=1))"
      ],
      "metadata": {
        "colab": {
          "base_uri": "https://localhost:8080/"
        },
        "id": "ojONmIYU6Pyi",
        "outputId": "5b0ddaba-267c-411f-eefe-b510072994a5"
      },
      "execution_count": null,
      "outputs": [
        {
          "output_type": "stream",
          "name": "stderr",
          "text": [
            "100%|██████████| 9/9 [02:23<00:00, 15.93s/it]\n"
          ]
        }
      ]
    },
    {
      "cell_type": "code",
      "source": [
        "output = np.vstack(outputs)"
      ],
      "metadata": {
        "id": "sfdE1zPYB8U2"
      },
      "execution_count": null,
      "outputs": []
    },
    {
      "cell_type": "code",
      "source": [
        "output.shape"
      ],
      "metadata": {
        "colab": {
          "base_uri": "https://localhost:8080/"
        },
        "id": "gDHAUzG8CtLz",
        "outputId": "dac7d358-3f93-4cff-b256-7290d5ebd993"
      },
      "execution_count": null,
      "outputs": [
        {
          "output_type": "execute_result",
          "data": {
            "text/plain": [
              "(87599, 1)"
            ]
          },
          "metadata": {},
          "execution_count": 49
        }
      ]
    },
    {
      "cell_type": "code",
      "source": [
        "labels.reshape(-1,1).shape"
      ],
      "metadata": {
        "colab": {
          "base_uri": "https://localhost:8080/"
        },
        "id": "MgHGm_qACvcy",
        "outputId": "eb515fb6-517c-4148-fcf3-54aab53a10f1"
      },
      "execution_count": null,
      "outputs": [
        {
          "output_type": "execute_result",
          "data": {
            "text/plain": [
              "(87599, 1)"
            ]
          },
          "metadata": {},
          "execution_count": 52
        }
      ]
    },
    {
      "cell_type": "code",
      "source": [
        "np.equal(output, labels.reshape(-1,1)).shape"
      ],
      "metadata": {
        "colab": {
          "base_uri": "https://localhost:8080/"
        },
        "id": "aS2TRz-9C0yS",
        "outputId": "86924d29-2544-4a4d-b61e-72dcde2841de"
      },
      "execution_count": null,
      "outputs": [
        {
          "output_type": "execute_result",
          "data": {
            "text/plain": [
              "(87599, 1)"
            ]
          },
          "metadata": {},
          "execution_count": 53
        }
      ]
    },
    {
      "cell_type": "code",
      "source": [
        "np.count_nonzero(np.equal(output, labels.reshape(-1,1))) / output.size"
      ],
      "metadata": {
        "colab": {
          "base_uri": "https://localhost:8080/"
        },
        "id": "QtrPVWD1CcTe",
        "outputId": "c7766111-3018-413d-98a9-562275358b3b"
      },
      "execution_count": null,
      "outputs": [
        {
          "output_type": "execute_result",
          "data": {
            "text/plain": [
              "0.000993162022397516"
            ]
          },
          "metadata": {},
          "execution_count": 54
        }
      ]
    },
    {
      "cell_type": "markdown",
      "source": [
        "# Testing implementation with stop word removal"
      ],
      "metadata": {
        "id": "_JJKq9xlEyiM"
      }
    },
    {
      "cell_type": "markdown",
      "source": [
        "## Inspecting more in depth to understand which steps of the NLP pipeline are the most crucial"
      ],
      "metadata": {
        "id": "5cclYMfdVWko"
      }
    },
    {
      "cell_type": "code",
      "source": [
        "train_df.shape"
      ],
      "metadata": {
        "colab": {
          "base_uri": "https://localhost:8080/"
        },
        "id": "-rE0uxqZVdUa",
        "outputId": "4e202f81-5e1e-455a-feac-fb8d583af374"
      },
      "execution_count": 41,
      "outputs": [
        {
          "output_type": "execute_result",
          "data": {
            "text/plain": [
              "(442, 2)"
            ]
          },
          "metadata": {},
          "execution_count": 41
        }
      ]
    },
    {
      "cell_type": "code",
      "source": [
        "first_data_point = train_df.loc[0]['data']\n",
        "print(type(first_data_point), \"\\n\", first_data_point.keys())"
      ],
      "metadata": {
        "colab": {
          "base_uri": "https://localhost:8080/"
        },
        "id": "BUGVekPjW21-",
        "outputId": "20cf0d4d-eb26-4fc2-ee27-6edac610daa3"
      },
      "execution_count": 20,
      "outputs": [
        {
          "output_type": "stream",
          "name": "stdout",
          "text": [
            "<class 'dict'> \n",
            " dict_keys(['title', 'paragraphs'])\n"
          ]
        }
      ]
    },
    {
      "cell_type": "code",
      "source": [
        "first_paragraphs = first_data_point['paragraphs']\n",
        "len(first_paragraphs)"
      ],
      "metadata": {
        "colab": {
          "base_uri": "https://localhost:8080/"
        },
        "id": "iAoByVGQXiMx",
        "outputId": "7b3231db-71e6-4cfd-c91c-474c2c5b9746"
      },
      "execution_count": 26,
      "outputs": [
        {
          "output_type": "execute_result",
          "data": {
            "text/plain": [
              "55"
            ]
          },
          "metadata": {},
          "execution_count": 26
        }
      ]
    },
    {
      "cell_type": "code",
      "source": [
        "first_paragraphs[0]"
      ],
      "metadata": {
        "colab": {
          "base_uri": "https://localhost:8080/"
        },
        "id": "WkaWl5SBZZvd",
        "outputId": "a00aae93-0f5a-418c-c091-ac4248972381"
      },
      "execution_count": 27,
      "outputs": [
        {
          "output_type": "execute_result",
          "data": {
            "text/plain": [
              "{'context': 'Architecturally, the school has a Catholic character. Atop the Main Building\\'s gold dome is a golden statue of the Virgin Mary. Immediately in front of the Main Building and facing it, is a copper statue of Christ with arms upraised with the legend \"Venite Ad Me Omnes\". Next to the Main Building is the Basilica of the Sacred Heart. Immediately behind the basilica is the Grotto, a Marian place of prayer and reflection. It is a replica of the grotto at Lourdes, France where the Virgin Mary reputedly appeared to Saint Bernadette Soubirous in 1858. At the end of the main drive (and in a direct line that connects through 3 statues and the Gold Dome), is a simple, modern stone statue of Mary.',\n",
              " 'qas': [{'answers': [{'answer_start': 515,\n",
              "     'text': 'Saint Bernadette Soubirous'}],\n",
              "   'question': 'To whom did the Virgin Mary allegedly appear in 1858 in Lourdes France?',\n",
              "   'id': '5733be284776f41900661182'},\n",
              "  {'answers': [{'answer_start': 188, 'text': 'a copper statue of Christ'}],\n",
              "   'question': 'What is in front of the Notre Dame Main Building?',\n",
              "   'id': '5733be284776f4190066117f'},\n",
              "  {'answers': [{'answer_start': 279, 'text': 'the Main Building'}],\n",
              "   'question': 'The Basilica of the Sacred heart at Notre Dame is beside to which structure?',\n",
              "   'id': '5733be284776f41900661180'},\n",
              "  {'answers': [{'answer_start': 381,\n",
              "     'text': 'a Marian place of prayer and reflection'}],\n",
              "   'question': 'What is the Grotto at Notre Dame?',\n",
              "   'id': '5733be284776f41900661181'},\n",
              "  {'answers': [{'answer_start': 92,\n",
              "     'text': 'a golden statue of the Virgin Mary'}],\n",
              "   'question': 'What sits on top of the Main Building at Notre Dame?',\n",
              "   'id': '5733be284776f4190066117e'}]}"
            ]
          },
          "metadata": {},
          "execution_count": 27
        }
      ]
    },
    {
      "cell_type": "code",
      "source": [
        "first_context = first_paragraphs[0]['context']\n",
        "first_questions = [qna['question'] for qna in first_paragraphs[0]['qas']]"
      ],
      "metadata": {
        "id": "RrxzKGEOZgO0"
      },
      "execution_count": 60,
      "outputs": []
    },
    {
      "cell_type": "code",
      "source": [
        "first_context"
      ],
      "metadata": {
        "colab": {
          "base_uri": "https://localhost:8080/",
          "height": 104
        },
        "id": "NZR9YZvCbD6t",
        "outputId": "9c1ec5d7-37fa-4d62-94e1-6403c91bfc76"
      },
      "execution_count": 30,
      "outputs": [
        {
          "output_type": "execute_result",
          "data": {
            "text/plain": [
              "'Architecturally, the school has a Catholic character. Atop the Main Building\\'s gold dome is a golden statue of the Virgin Mary. Immediately in front of the Main Building and facing it, is a copper statue of Christ with arms upraised with the legend \"Venite Ad Me Omnes\". Next to the Main Building is the Basilica of the Sacred Heart. Immediately behind the basilica is the Grotto, a Marian place of prayer and reflection. It is a replica of the grotto at Lourdes, France where the Virgin Mary reputedly appeared to Saint Bernadette Soubirous in 1858. At the end of the main drive (and in a direct line that connects through 3 statues and the Gold Dome), is a simple, modern stone statue of Mary.'"
            ],
            "application/vnd.google.colaboratory.intrinsic+json": {
              "type": "string"
            }
          },
          "metadata": {},
          "execution_count": 30
        }
      ]
    },
    {
      "cell_type": "code",
      "source": [
        "first_questions"
      ],
      "metadata": {
        "colab": {
          "base_uri": "https://localhost:8080/"
        },
        "id": "2N-NrTiOl2HO",
        "outputId": "7bde5341-b56b-4730-b2e2-3ea382beac00"
      },
      "execution_count": 61,
      "outputs": [
        {
          "output_type": "execute_result",
          "data": {
            "text/plain": [
              "['To whom did the Virgin Mary allegedly appear in 1858 in Lourdes France?',\n",
              " 'What is in front of the Notre Dame Main Building?',\n",
              " 'The Basilica of the Sacred heart at Notre Dame is beside to which structure?',\n",
              " 'What is the Grotto at Notre Dame?',\n",
              " 'What sits on top of the Main Building at Notre Dame?']"
            ]
          },
          "metadata": {},
          "execution_count": 61
        }
      ]
    },
    {
      "cell_type": "code",
      "source": [
        "remove_stopwords(first_context)"
      ],
      "metadata": {
        "colab": {
          "base_uri": "https://localhost:8080/",
          "height": 87
        },
        "id": "bXKwiLYLbFdt",
        "outputId": "bc16bff7-fd23-41d8-9630-b12a1d28ae94"
      },
      "execution_count": 31,
      "outputs": [
        {
          "output_type": "execute_result",
          "data": {
            "text/plain": [
              "'Architecturally, school Catholic character. Atop Main Building\\'s gold dome golden statue Virgin Mary. Immediately Main Building facing it, copper statue Christ arms upraised legend \"Venite Ad Me Omnes\". Next Main Building Basilica Sacred Heart. Immediately basilica Grotto, Marian place prayer reflection. It replica grotto Lourdes, France Virgin Mary reputedly appeared Saint Bernadette Soubirous 1858. At end main drive (and direct line connects 3 statues Gold Dome), simple, modern stone statue Mary.'"
            ],
            "application/vnd.google.colaboratory.intrinsic+json": {
              "type": "string"
            }
          },
          "metadata": {},
          "execution_count": 31
        }
      ]
    },
    {
      "cell_type": "code",
      "source": [
        "' '.join(preprocess_string(first_context))"
      ],
      "metadata": {
        "colab": {
          "base_uri": "https://localhost:8080/",
          "height": 70
        },
        "id": "LReaHCZevRXO",
        "outputId": "06cd9066-04ba-43df-96d8-addfe94b233c"
      },
      "execution_count": 87,
      "outputs": [
        {
          "output_type": "execute_result",
          "data": {
            "text/plain": [
              "'architectur school cathol charact atop main build gold dome golden statu virgin mari immedi main build face copper statu christ arm uprais legend venit omn main build basilica sacr heart immedi basilica grotto marian place prayer reflect replica grotto lourd franc virgin mari reputedli appear saint bernadett soubir end main drive direct line connect statu gold dome simpl modern stone statu mari'"
            ],
            "application/vnd.google.colaboratory.intrinsic+json": {
              "type": "string"
            }
          },
          "metadata": {},
          "execution_count": 87
        }
      ]
    },
    {
      "cell_type": "markdown",
      "source": [
        "## Simplified task. Associate each question with the corresponding entry."
      ],
      "metadata": {
        "id": "mxzIslwtbf52"
      }
    },
    {
      "cell_type": "code",
      "source": [
        "df = dev_df"
      ],
      "metadata": {
        "id": "22hHq9AlZd0k"
      },
      "execution_count": 42,
      "outputs": []
    },
    {
      "cell_type": "code",
      "source": [
        "docs, questions, labels = [], [], []\n",
        "\n",
        "def process_paragraph(paragraph):\n",
        "    return ' '.join(preprocess_string(paragraph))\n",
        "\n",
        "for entry in df.iterrows():\n",
        "    # Variable that will host all paragraphs from an entry\n",
        "    paragraphs = []\n",
        "    # Iterate through all paragraphs\n",
        "    for paragraph in entry[1]['data']['paragraphs']:\n",
        "        # Remove stop words and concatenate to form the document\n",
        "        procd_paragraph = process_paragraph(paragraph['context'])\n",
        "        paragraphs.append(procd_paragraph)\n",
        "        # Save all questions\n",
        "        qas = paragraph['qas']\n",
        "        ## Append all questions from the current paragraph\n",
        "        questions.extend(qa['question'] for qa in qas)\n",
        "        ## Append an equal number of labels to the labels structure\n",
        "        labels.extend([entry[0]] * len(qas))\n",
        "    docs.append(' '.join(paragraphs))"
      ],
      "metadata": {
        "id": "xC6MxQfGdpp3"
      },
      "execution_count": 43,
      "outputs": []
    },
    {
      "cell_type": "code",
      "source": [
        "print(len(docs), len(questions), len(labels))"
      ],
      "metadata": {
        "colab": {
          "base_uri": "https://localhost:8080/"
        },
        "id": "WtABAG6Xfe5K",
        "outputId": "de8e4ce2-392f-4926-eba3-72318ba44804"
      },
      "execution_count": 44,
      "outputs": [
        {
          "output_type": "stream",
          "name": "stdout",
          "text": [
            "48 10570 10570\n"
          ]
        }
      ]
    },
    {
      "cell_type": "code",
      "source": [
        "docs[5]"
      ],
      "metadata": {
        "colab": {
          "base_uri": "https://localhost:8080/",
          "height": 139
        },
        "id": "mZ1ijYvcgPfA",
        "outputId": "30583540-0af4-411f-d922-946d4e42150d"
      },
      "execution_count": 45,
      "outputs": [
        {
          "output_type": "execute_result",
          "data": {
            "text/plain": [
              "'role teacher formal ongo carri school place formal educ countri person wish teacher obtain specifi profession qualif credenti univers colleg profession qualif includ studi pedagogi scienc teach teacher like profession continu educ qualifi process known continu profession develop teacher us lesson plan facilit student learn provid cours studi call curriculum teacher role vari cultur teacher provid instruct literaci numeraci craftsmanship vocat train art religion civic commun role life skill countri formal educ place home school inform learn assist teacher occupi transient ongo role famili member knowledg skill wider commun set religi spiritu teacher guru mullah rabbi pastor youth pastor lama teach religi text quran torah bibl teach carri inform famili call homeschool wider commun formal teach carri paid profession profession enjoi statu societi par physician lawyer engin account charter cpa teacher profession duti extend formal teach outsid classroom teacher accompani student field trip supervis studi hall help organ school function serv supervisor extracurricular activ educ system teacher respons student disciplin varieti bodi design instil preserv updat knowledg profession stand teacher world govern oper teacher colleg gener establish serv protect public certifi govern enforc standard practic teach profess function teacher colleg includ set clear standard practic provid ongo educ teacher investig complaint involv member conduct hear alleg profession misconduct take appropri disciplinari action accredit teacher educ program situat teacher publicli fund school member good stand colleg privat school requir teacher colleg peopl area role belong state board educ superintend public instruct state educ agenc government bodi area teach union respons duti educ teacher facilit student learn school academi environ outdoor teacher teach individu basi describ tutor object typic accomplish inform formal approach learn includ cours studi lesson plan teach skill knowledg think skill differ wai teach refer pedagogi decid teach method us teacher consid student background knowledg environ learn goal standard curricula determin relev author time teacher assist learn outsid classroom accompani student field trip increas us technolog specif rise internet past decad begun shape wai teacher approach role classroom object typic cours studi lesson plan practic skill teacher follow standard curricula determin relev author teacher interact student differ ag infant adult student differ abil student learn disabl teach pedagogi involv assess educ level student particular skill understand pedagogi student classroom involv differenti instruct supervis meet need student classroom pedagogi thought manner teach taught differ wai pedagogi teach style second pedagogi learner come plai teacher assess pedagog divers student differenti individu student accordingli exampl experienc teacher parent describ place teacher learn follow real bulk learn take place self studi problem solv lot feedback loop function teacher pressur lazi inspir bore deflat cocki encourag timid detect correct individu flaw broaden viewpoint function look like coach gamut psycholog new class rooki bench game signific differ primari school secondari school teach relationship teacher children primari school class teacher stai week teach curriculum secondari school taught differ subject specialist session week differ teacher relationship children teacher tend closer primari school act form tutor specialist teacher surrog parent cours dai true unit state altern approach primari educ exist refer platoon involv place group student class move specialist subject advantag student learn teacher special subject tend knowledg area teacher teach subject student deriv strong sens secur stai group peer class teach new trend educ institut teach defin teacher work harmoni fulfil need student classroom teach focus student learn provid social network support allow reach cognit potenti teacher work sync creat climat learn histori educ common form school disciplin corpor punish child school teacher expect act substitut parent normal form parent disciplin open past time corpor punish spank paddl cane strap birch student order caus physic pain common form school disciplin world western countri ban remain law unit state follow suprem court decis held paddl violat constitut state ban corpor punish south signific declin degre public school alabama arkansa georgia louisiana mississippi oklahoma tennesse texa privat school state us corpor punish american school administ seat student trouser skirt special wooden paddl place classroom hallwai nowadai punish usual given privat princip offic offici corpor punish cane remain commonplac school asian african caribbean countri detail individu countri school corpor punish current detent common punish school unit state ireland singapor countri requir pupil remain school given time school dai lunch recess school attend school non school dai saturdai detent held school detent student normal sit classroom work write line punish essai sit quietli modern exampl school disciplin north america western europ reli idea assert teacher prepar impos class posit reinforc balanc immedi fair punish misbehavior firm clear boundari defin appropri inappropri behavior teacher expect respect student sarcasm attempt humili pupil seen fall outsid constitut reason disciplin verif need whilst consensu viewpoint major academ teacher parent advoc assert confront style disciplin citat need individu claim problem modern school stem weak school disciplin teacher exercis firm control classroom abl teach effici viewpoint support educ attain countries—in east asia instance—that combin strict disciplin high standard educ citat need clear stereotyp view reflect realiti east asian classroom educ goal countri commensur western countri japan exampl averag attain standard test exce western countri classroom disciplin behavior highli problemat offici school extrem rigid code behavior practic teacher student unmanag enforc disciplin school class size typic student maintain order classroom divert teacher instruct leav littl opportun concentr focu taught respons teacher concentr attent motiv student ignor attent seek disrupt student result motiv student face demand univers entranc examin receiv disproportion resourc given emphasi attain univers place administr governor regard polici appropri sudburi model democrat school claim popularli base author maintain order effect dictatori author govern school alik claim school preserv public order easier effici primarili rule regul commun school atmospher persuas negoti confront confront sudburi model democrat school propon argu school good clear law fairli democrat pass entir school commun good judici enforc law school commun disciplin prevail increasingli sophist concept law order develop school todai rule arbitrari author absolut punish caprici process law unknown teacher affect student perceiv cours materi teacher show enthusiasm cours materi student affect posit learn experi cours materi teacher cours evalu teacher posit disposit cours content tend transfer passion recept student teacher teach rote attempt new invigor cours materi daili basi difficulti approach teacher repeatedli cover curriculum begin feel bore subject turn bore student student enthusiast teacher tend rate higher teacher enthusiasm cours materi teacher exhibit enthusiasm lead student like engag interest energet curiou learn subject matter recent research correl teacher enthusiasm student intrins motiv learn vital classroom control experiment studi explor intrins motiv colleg student shown nonverb express enthusiasm demonstr gestur dramat movement vari emot facial express result colleg student report higher level intrins motiv learn student experienc enthusiast teacher like read lectur materi outsid classroom mechan teacher enthusiasm facilit higher level intrins motiv teacher enthusiasm contribut classroom atmospher energi enthusiasm feed student excit learn subject matter enthusiast teacher lead student self determin learn process concept mere exposur indic teacher enthusiasm contribut student expect intrins motiv context learn enthusiasm act motiv embellish increas student varieti novelti surpris enthusiast teacher present materi final concept emot contagion appli student intrins motiv catch enthusiasm energi teacher citat need research show student motiv attitud school close link student teacher relationship enthusiast teacher particularli good creat benefici relat student abil creat effect learn environ foster student achiev depend kind relationship build student us teacher student interact crucial link academ success person achiev person success student intern goal improv academ success includ goal receiv superior teacher guid student align person goal academ goal student receiv posit influenc stronger self confid greater person academ success teacher interact student like build stronger relat teacher friendli support cours taught teacher teacher spend time interact work directli student perceiv support effect teacher effect teacher shown invit student particip decis make allow humor classroom demonstr willing plai wai teacher promot cours teach student subject matter import aspect teacher enthusiasm enthusiasm teach enthusiasm student enthusiasm subject matter teacher enjoi teach enjoi student abl tell enjoi student teacher care student go help individu succe life futur teacher need enthusiast subject matter teach exampl teacher talk chemistri need enjoi art chemistri student spark teacher creat spark excit student enthusiast teacher abil influenti young student life misconduct teacher especi sexual misconduct get increas scrutini media court studi american associ univers women report student unit state claim receiv unwant sexual attent adult associ educ volunt bu driver teacher administr adult educ career studi england show preval sexual abus profession group includ priest religi leader case worker teacher import note british studi referenc kind consist random probabl sampl young peopl ag assist studi question refer sexual abus profession necessarili teacher logic conclud inform percentag abus teacher unit kingdom explicitli avail necessarili reliabl aauw studi pose question fourteen type sexual harass degre frequenc includ abus teacher sampl drawn list school creat stratifi stage sampl design grade student reliabl gaug margin error unit state especi high profil case debra lafav pamela roger mari kai letourneau caus increas scrutini teacher misconduct chri keat gener secretari nation associ schoolmast union women teacher said teacher sex pupil ag consent place sex offend regist prosecut statutori rape real anomali law concern led outrag child protect parent right group fear label pedophil hebephil led men enjoi teach avoid profess jurisdict reportedli led shortag male teacher teacher face occup hazard line work includ occup stress neg impact teacher mental physic health product student perform stress caus organiz chang relationship student fellow teacher administr personnel work environ expect substitut long hour heavi workload inspect teacher high risk occup burnout studi teacher experienc occup stress twice figur averag profess studi teacher experienc doubl rate anxieti depress stress averag worker wai mitig occup hazard teach organiz intervent like chang teacher schedul provid support network mentor chang work environ offer promot bonus effect help reduc occup stress teacher individu level intervent includ stress manag train counsel reliev occup stress teacher similar differ teacher world countri teacher educ univers colleg govern requir certif recogn bodi teach school countri elementari school educ certif earn complet high school high school student follow educ specialti track obtain prerequisit student teach time receiv special diploma begin teach graduat addit certif educ institut especi requir prospect teacher pass background check psychiatr evalu abl teach classroom case adult learn institut fast norm countri secur concern grow educ australia primarili respons individu state territori gener educ australia follow tier model includ primari educ primari school follow secondari educ secondari school high school tertiari educ univers tafe colleg teach canada requir post secondari degre bachelor degre provinc second bachelor degre bachelor educ requir qualifi teacher salari rang year teacher option teach public school fund provinci govern teach privat school fund privat sector busi sponsor germani teacher mainli civil servant recruit special univers class call lehramtstudien teach educ studi differ teacher elementari school grundschul lower secondari school hauptschul middl level secondari school realschul higher level secondari school gymnasium salari teacher depend civil servant salari index scale bundesbesoldungsordnung salari primari teacher ireland depend mainli senior hold posit princip deputi princip assist princip experi qualif extra pai given teach irish languag gaeltacht area island basic pai start teacher rise increment teacher year servic princip larg school year experi qualif dip earn teacher requir regist teach council section teach council act person emploi capac recognis teach post regist teach council paid oireachta fund garda vet introduc new entrant teach profess procedur appli teach non teach post refus vet appoint engag school capac includ voluntari role exist staff vet phase basi salari nurseri primari secondari school teacher rang septemb salari higher depend experi extra respons preschool teacher earn annual citat need teacher state school bachelor degre complet approv teacher educ program licens counti offer altern licens program attract peopl teach especi hard posit excel job opportun expect retir especi secondari school teacher outweigh slow enrol growth opportun vari geograph area subject taught citat need scotland wish teach regist gener teach council scotland gtc teach scotland graduat profess normal rout graduat wish teach complet programm initi teacher educ it seven scottish univers offer cours successfulli complet provision registr given gtc rais registr statu year suffici evid standard registr met salari year begin april unpromot teacher scotland earn probation year teach earn complet modul earn charter teacher statu requir year modul year promot princip teacher posit attract salari deputi head head teacher earn teacher scotland regist member trade union main on educ institut scotland scottish secondari teacher associ educ wale differ certain respect educ unit kingdom exampl signific number student wale educ wholli larg medium welsh cent class maintain primari school welsh sole main medium instruct welsh medium educ avail ag group nurseri school colleg univers adult educ lesson languag compulsori pupil ag teacher wale regist member trade union atl nut nasuwt report recent year suggest averag ag teacher wale fall teacher younger previou year grow caus concern attack teacher welsh school reach time high unit state state determin requir get licens teach public school teach certif gener last year teacher receiv certif long year public school teacher requir bachelor degre major certifi state teach charter school requir teacher certifi provid meet standard highli qualifi set child left addition requir substitut temporari teacher gener rigor time profession bureau labor statist estim million elementari school teacher middl school teacher million secondari school teacher emploi past teacher paid rel low salari averag teacher salari improv rapidli recent year teacher gener paid graduat scale incom depend experi teacher experi higher educ earn standard bachelor degre certif salari vari greatli depend state rel cost live grade taught salari vari state wealthi suburban school district gener higher salari schedul district median salari primari secondari teacher averag entri salari teacher bachelor degre estim median salari preschool teacher half nation median secondari teacher clock estim high school teacher median salari rang south dakota new york nation median contract includ long term disabl insur life insur emerg person leav invest option american feder teacher teacher salari survei school year averag teacher salari salari survei report teacher elementari school teacher lowest median salari earn high school teacher highest median salari earn teacher advantag opportun increas incom supervis school program extracurricular activ addit monetari compens public school teacher enjoi greater benefit like health insur compar occup merit pai system rise teacher pai teacher extra monei base excel classroom evalu high test score high success overal school advent internet teacher sell lesson plan teacher web order earn supplement incom notabl teacherspayteach com form spiritu religi teacher christian major tradit roman cathol eastern orthodox cathol protest non denomin stronger tradit spiritu format histor authoritarian hierarch christian tradit long tradit discern spirit vocat aspect spiritu life especi roman orthodox cathol church posit includ honour inform posit staret elder man woman monast consid grace god certain gift guidanc soul detect correct prelest spiritu pride decept act spiritu guid father orthodox cathol tradit especi russian orthodoxi optina monasteri long line said staret priest confessor roman catholic man holi order monast person respect spiritu accomplish acumen pope rome confessor bishop hierarch structur roman church equal author semi offici offici posit oppos unoffici posit spiritu guid orthodox cathol protest tradit exclus inform arrang gener formal member form church disciplin mentorship adult children case youth pastor protest non denomin tradit boundari blur typic roman confessor posit histor conserv reform church lutheran anglican keep individualist natur protest denomin emphasi guid spiritu develop small heavi emphasi place heavi read person spirit enlighten interpret holi bibl church jesu christ dai saint ld church teacher offic aaron priesthood gener confer young boi recent convert littl common spiritu teacher archetyp role spiritu teacher fill individu ld church trust friend hold offic elder bishop offic emphasi spiritu mentorship ld church similar low church tradit protestant stronger emphasi place husband father famili provid spiritu guidanc famili ideal consult wife husband member ld church base interpretatio certain biblic text proclaim spiritu author husband marriag priesthood repres expect defer father hous home addit spiritu guidanc offer hold offic patriarch suppos dai saint grant certain gift spirit abil prophesi holder guidanc gener offer ceremoni call patriarch bless hinduism spiritu teacher known guru tradit hinduism especi common west emphasi spiritu mentorship extrem high guru exercis great deal control live discipl tibetan buddhism teacher dharma tibet commonli call lama lama phowa siddhi conscious determin reborn time order continu bodhisattva vow call tulku concept teacher islam rang mullah teacher madrassa ulema teach law islam proper wai islam live accord sunnah ahadith render legal verdict matter islam law accord teach school jurisprud spiritu mystic islam tradit sufism posit spiritu teacher esoter oppos exoter action orient pillar islam spiritu spiritu knowledg take import dimens emphasi learn live saint highest qutb tradit pass initi initi traceabl founder order'"
            ],
            "application/vnd.google.colaboratory.intrinsic+json": {
              "type": "string"
            }
          },
          "metadata": {},
          "execution_count": 45
        }
      ]
    },
    {
      "cell_type": "code",
      "source": [
        "# allowed = set(string.printable)\n",
        "# string.printable\n",
        "# allowed\n",
        "# I wanted to remove all the words that did not contain any ascii printable char, but in my opinion it's a solution that is too specific"
      ],
      "metadata": {
        "id": "gq9AR1LihhHh"
      },
      "execution_count": 56,
      "outputs": []
    },
    {
      "cell_type": "code",
      "source": [
        "def take_qs_sample(questions, labels, size, seed=26):\n",
        "    questions = np.asarray(questions)\n",
        "    labels = np.asarray(labels)\n",
        "    indices = np.arange(len(labels))\n",
        "    np.random.seed(seed)\n",
        "    np.random.shuffle(indices)\n",
        "    sample_indices = indices[:size]\n",
        "    return questions[sample_indices], labels[sample_indices]"
      ],
      "metadata": {
        "id": "obzZOX8zqCDa"
      },
      "execution_count": 46,
      "outputs": []
    },
    {
      "cell_type": "code",
      "source": [
        "vectorizer = TfidfVectorizer()\n",
        "X = vectorizer.fit_transform(docs)"
      ],
      "metadata": {
        "id": "g-bpFVGrszNz"
      },
      "execution_count": 47,
      "outputs": []
    },
    {
      "cell_type": "code",
      "source": [
        "SAMPLE_SIZE = 5000\n",
        "sample_qs, sample_labels = take_qs_sample(questions, labels, SAMPLE_SIZE)"
      ],
      "metadata": {
        "id": "7auCaLUEscLQ"
      },
      "execution_count": 51,
      "outputs": []
    },
    {
      "cell_type": "code",
      "source": [
        "vectorized_qs = vectorizer.transform(sample_qs)\n",
        "retrieved_labels = csr_matrix.argmax(cosine_similarity(vectorized_qs, X, dense_output=False), axis=1)"
      ],
      "metadata": {
        "id": "opu1j9uGWQZG"
      },
      "execution_count": 52,
      "outputs": []
    },
    {
      "cell_type": "code",
      "source": [
        "np.count_nonzero(np.equal(retrieved_labels, sample_labels.reshape(-1,1))) / SAMPLE_SIZE"
      ],
      "metadata": {
        "colab": {
          "base_uri": "https://localhost:8080/"
        },
        "id": "otGBoO4LYXLz",
        "outputId": "98c4b3bd-ea5a-48bd-d384-1822a9c59a01"
      },
      "execution_count": 53,
      "outputs": [
        {
          "output_type": "execute_result",
          "data": {
            "text/plain": [
              "0.62"
            ]
          },
          "metadata": {},
          "execution_count": 53
        }
      ]
    }
  ]
}